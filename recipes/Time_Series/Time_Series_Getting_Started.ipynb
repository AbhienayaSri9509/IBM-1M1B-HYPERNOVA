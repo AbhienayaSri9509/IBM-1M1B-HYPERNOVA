{
  "cells": [
    {
      "cell_type": "markdown",
      "metadata": {
        "id": "view-in-github",
        "colab_type": "text"
      },
      "source": [
        "<a href=\"https://colab.research.google.com/github/AbhienayaSri9509/IBM-1M1B-HYPERNOVA/blob/main/recipes/Time_Series/Time_Series_Getting_Started.ipynb\" target=\"_parent\"><img src=\"https://colab.research.google.com/assets/colab-badge.svg\" alt=\"Open In Colab\"/></a>"
      ]
    },
    {
      "cell_type": "markdown",
      "metadata": {
        "id": "x7hCfRgcetP3"
      },
      "source": [
        "# Energy Demand Forecasting with Granite Timeseries (TTM)\n",
        "\n",
        "TinyTimeMixers (TTMs) are compact pre-trained models for Multivariate Time-Series Forecasting, open-sourced by IBM Research. With less than 1 Million parameters, TTM introduces the notion of the first-ever \"tiny\" pre-trained models for Time-Series Forecasting. TTM outperforms several popular benchmarks demanding billions of parameters in zero-shot and few-shot forecasting and can easily be fine-tuned for multi-variate forecasts."
      ]
    },
    {
      "cell_type": "markdown",
      "metadata": {
        "id": "xPVnnenbetP7"
      },
      "source": [
        "### Install the TSFM Library\n",
        "\n",
        "The [granite-tsfm library](https://github.com/ibm-granite/granite-tsfm) provides utilities for working with Time Series Foundation Models (TSFM). Here the pinned version is retrieved and installed."
      ]
    },
    {
      "cell_type": "code",
      "execution_count": null,
      "metadata": {
        "id": "jvHSHmHVetP8",
        "outputId": "42c4146e-66e3-4b7e-ac24-7420f03e4b9e",
        "colab": {
          "base_uri": "https://localhost:8080/"
        }
      },
      "outputs": [
        {
          "output_type": "stream",
          "name": "stdout",
          "text": [
            "Requirement already satisfied: granite-tsfm==0.2.23 in /usr/local/lib/python3.12/dist-packages (from granite-tsfm[notebooks]==0.2.23) (0.2.23)\n",
            "Requirement already satisfied: pandas>=2.2.0 in /usr/local/lib/python3.12/dist-packages (from granite-tsfm==0.2.23->granite-tsfm[notebooks]==0.2.23) (2.2.2)\n",
            "Requirement already satisfied: scikit-learn in /usr/local/lib/python3.12/dist-packages (from granite-tsfm==0.2.23->granite-tsfm[notebooks]==0.2.23) (1.6.1)\n",
            "Requirement already satisfied: transformers>=4.38.0 in /usr/local/lib/python3.12/dist-packages (from transformers[torch]>=4.38.0->granite-tsfm==0.2.23->granite-tsfm[notebooks]==0.2.23) (4.57.1)\n",
            "Requirement already satisfied: datasets in /usr/local/lib/python3.12/dist-packages (from granite-tsfm==0.2.23->granite-tsfm[notebooks]==0.2.23) (4.0.0)\n",
            "Requirement already satisfied: deprecated in /usr/local/lib/python3.12/dist-packages (from granite-tsfm==0.2.23->granite-tsfm[notebooks]==0.2.23) (1.2.18)\n",
            "Requirement already satisfied: urllib3<3,>=1.26.19 in /usr/local/lib/python3.12/dist-packages (from granite-tsfm==0.2.23->granite-tsfm[notebooks]==0.2.23) (2.5.0)\n",
            "Requirement already satisfied: numpy<3 in /usr/local/lib/python3.12/dist-packages (from granite-tsfm==0.2.23->granite-tsfm[notebooks]==0.2.23) (2.0.2)\n",
            "Requirement already satisfied: jupyter in /usr/local/lib/python3.12/dist-packages (from granite-tsfm[notebooks]==0.2.23) (1.1.1)\n",
            "Requirement already satisfied: matplotlib in /usr/local/lib/python3.12/dist-packages (from granite-tsfm[notebooks]==0.2.23) (3.10.0)\n",
            "Requirement already satisfied: ipywidgets in /usr/local/lib/python3.12/dist-packages (from granite-tsfm[notebooks]==0.2.23) (7.7.1)\n",
            "Requirement already satisfied: plotly in /usr/local/lib/python3.12/dist-packages (from granite-tsfm[notebooks]==0.2.23) (5.24.1)\n",
            "Requirement already satisfied: kaleido in /usr/local/lib/python3.12/dist-packages (from granite-tsfm[notebooks]==0.2.23) (1.1.0)\n",
            "Requirement already satisfied: tensorboard in /usr/local/lib/python3.12/dist-packages (from granite-tsfm[notebooks]==0.2.23) (2.19.0)\n",
            "Requirement already satisfied: python-dateutil>=2.8.2 in /usr/local/lib/python3.12/dist-packages (from pandas>=2.2.0->granite-tsfm==0.2.23->granite-tsfm[notebooks]==0.2.23) (2.9.0.post0)\n",
            "Requirement already satisfied: pytz>=2020.1 in /usr/local/lib/python3.12/dist-packages (from pandas>=2.2.0->granite-tsfm==0.2.23->granite-tsfm[notebooks]==0.2.23) (2025.2)\n",
            "Requirement already satisfied: tzdata>=2022.7 in /usr/local/lib/python3.12/dist-packages (from pandas>=2.2.0->granite-tsfm==0.2.23->granite-tsfm[notebooks]==0.2.23) (2025.2)\n",
            "Requirement already satisfied: filelock in /usr/local/lib/python3.12/dist-packages (from transformers>=4.38.0->transformers[torch]>=4.38.0->granite-tsfm==0.2.23->granite-tsfm[notebooks]==0.2.23) (3.20.0)\n",
            "Requirement already satisfied: huggingface-hub<1.0,>=0.34.0 in /usr/local/lib/python3.12/dist-packages (from transformers>=4.38.0->transformers[torch]>=4.38.0->granite-tsfm==0.2.23->granite-tsfm[notebooks]==0.2.23) (0.35.3)\n",
            "Requirement already satisfied: packaging>=20.0 in /usr/local/lib/python3.12/dist-packages (from transformers>=4.38.0->transformers[torch]>=4.38.0->granite-tsfm==0.2.23->granite-tsfm[notebooks]==0.2.23) (25.0)\n",
            "Requirement already satisfied: pyyaml>=5.1 in /usr/local/lib/python3.12/dist-packages (from transformers>=4.38.0->transformers[torch]>=4.38.0->granite-tsfm==0.2.23->granite-tsfm[notebooks]==0.2.23) (6.0.3)\n",
            "Requirement already satisfied: regex!=2019.12.17 in /usr/local/lib/python3.12/dist-packages (from transformers>=4.38.0->transformers[torch]>=4.38.0->granite-tsfm==0.2.23->granite-tsfm[notebooks]==0.2.23) (2024.11.6)\n",
            "Requirement already satisfied: requests in /usr/local/lib/python3.12/dist-packages (from transformers>=4.38.0->transformers[torch]>=4.38.0->granite-tsfm==0.2.23->granite-tsfm[notebooks]==0.2.23) (2.32.4)\n",
            "Requirement already satisfied: tokenizers<=0.23.0,>=0.22.0 in /usr/local/lib/python3.12/dist-packages (from transformers>=4.38.0->transformers[torch]>=4.38.0->granite-tsfm==0.2.23->granite-tsfm[notebooks]==0.2.23) (0.22.1)\n",
            "Requirement already satisfied: safetensors>=0.4.3 in /usr/local/lib/python3.12/dist-packages (from transformers>=4.38.0->transformers[torch]>=4.38.0->granite-tsfm==0.2.23->granite-tsfm[notebooks]==0.2.23) (0.6.2)\n",
            "Requirement already satisfied: tqdm>=4.27 in /usr/local/lib/python3.12/dist-packages (from transformers>=4.38.0->transformers[torch]>=4.38.0->granite-tsfm==0.2.23->granite-tsfm[notebooks]==0.2.23) (4.67.1)\n",
            "Requirement already satisfied: torch>=2.2 in /usr/local/lib/python3.12/dist-packages (from transformers[torch]>=4.38.0->granite-tsfm==0.2.23->granite-tsfm[notebooks]==0.2.23) (2.8.0+cu126)\n",
            "Requirement already satisfied: accelerate>=0.26.0 in /usr/local/lib/python3.12/dist-packages (from transformers[torch]>=4.38.0->granite-tsfm==0.2.23->granite-tsfm[notebooks]==0.2.23) (1.11.0)\n",
            "Requirement already satisfied: pyarrow>=15.0.0 in /usr/local/lib/python3.12/dist-packages (from datasets->granite-tsfm==0.2.23->granite-tsfm[notebooks]==0.2.23) (18.1.0)\n",
            "Requirement already satisfied: dill<0.3.9,>=0.3.0 in /usr/local/lib/python3.12/dist-packages (from datasets->granite-tsfm==0.2.23->granite-tsfm[notebooks]==0.2.23) (0.3.8)\n",
            "Requirement already satisfied: xxhash in /usr/local/lib/python3.12/dist-packages (from datasets->granite-tsfm==0.2.23->granite-tsfm[notebooks]==0.2.23) (3.6.0)\n",
            "Requirement already satisfied: multiprocess<0.70.17 in /usr/local/lib/python3.12/dist-packages (from datasets->granite-tsfm==0.2.23->granite-tsfm[notebooks]==0.2.23) (0.70.16)\n",
            "Requirement already satisfied: fsspec<=2025.3.0,>=2023.1.0 in /usr/local/lib/python3.12/dist-packages (from fsspec[http]<=2025.3.0,>=2023.1.0->datasets->granite-tsfm==0.2.23->granite-tsfm[notebooks]==0.2.23) (2025.3.0)\n",
            "Requirement already satisfied: wrapt<2,>=1.10 in /usr/local/lib/python3.12/dist-packages (from deprecated->granite-tsfm==0.2.23->granite-tsfm[notebooks]==0.2.23) (1.17.3)\n",
            "Requirement already satisfied: ipykernel>=4.5.1 in /usr/local/lib/python3.12/dist-packages (from ipywidgets->granite-tsfm[notebooks]==0.2.23) (6.17.1)\n",
            "Requirement already satisfied: ipython-genutils~=0.2.0 in /usr/local/lib/python3.12/dist-packages (from ipywidgets->granite-tsfm[notebooks]==0.2.23) (0.2.0)\n",
            "Requirement already satisfied: traitlets>=4.3.1 in /usr/local/lib/python3.12/dist-packages (from ipywidgets->granite-tsfm[notebooks]==0.2.23) (5.7.1)\n",
            "Requirement already satisfied: widgetsnbextension~=3.6.0 in /usr/local/lib/python3.12/dist-packages (from ipywidgets->granite-tsfm[notebooks]==0.2.23) (3.6.10)\n",
            "Requirement already satisfied: ipython>=4.0.0 in /usr/local/lib/python3.12/dist-packages (from ipywidgets->granite-tsfm[notebooks]==0.2.23) (7.34.0)\n",
            "Requirement already satisfied: jupyterlab-widgets>=1.0.0 in /usr/local/lib/python3.12/dist-packages (from ipywidgets->granite-tsfm[notebooks]==0.2.23) (3.0.15)\n",
            "Requirement already satisfied: notebook in /usr/local/lib/python3.12/dist-packages (from jupyter->granite-tsfm[notebooks]==0.2.23) (6.5.7)\n",
            "Requirement already satisfied: jupyter-console in /usr/local/lib/python3.12/dist-packages (from jupyter->granite-tsfm[notebooks]==0.2.23) (6.6.3)\n",
            "Requirement already satisfied: nbconvert in /usr/local/lib/python3.12/dist-packages (from jupyter->granite-tsfm[notebooks]==0.2.23) (7.16.6)\n",
            "Requirement already satisfied: jupyterlab in /usr/local/lib/python3.12/dist-packages (from jupyter->granite-tsfm[notebooks]==0.2.23) (4.4.10)\n",
            "Requirement already satisfied: choreographer>=1.0.10 in /usr/local/lib/python3.12/dist-packages (from kaleido->granite-tsfm[notebooks]==0.2.23) (1.2.0)\n",
            "Requirement already satisfied: logistro>=1.0.8 in /usr/local/lib/python3.12/dist-packages (from kaleido->granite-tsfm[notebooks]==0.2.23) (2.0.0)\n",
            "Requirement already satisfied: orjson>=3.10.15 in /usr/local/lib/python3.12/dist-packages (from kaleido->granite-tsfm[notebooks]==0.2.23) (3.11.3)\n",
            "Requirement already satisfied: pytest-timeout>=2.4.0 in /usr/local/lib/python3.12/dist-packages (from kaleido->granite-tsfm[notebooks]==0.2.23) (2.4.0)\n",
            "Requirement already satisfied: contourpy>=1.0.1 in /usr/local/lib/python3.12/dist-packages (from matplotlib->granite-tsfm[notebooks]==0.2.23) (1.3.3)\n",
            "Requirement already satisfied: cycler>=0.10 in /usr/local/lib/python3.12/dist-packages (from matplotlib->granite-tsfm[notebooks]==0.2.23) (0.12.1)\n",
            "Requirement already satisfied: fonttools>=4.22.0 in /usr/local/lib/python3.12/dist-packages (from matplotlib->granite-tsfm[notebooks]==0.2.23) (4.60.1)\n",
            "Requirement already satisfied: kiwisolver>=1.3.1 in /usr/local/lib/python3.12/dist-packages (from matplotlib->granite-tsfm[notebooks]==0.2.23) (1.4.9)\n",
            "Requirement already satisfied: pillow>=8 in /usr/local/lib/python3.12/dist-packages (from matplotlib->granite-tsfm[notebooks]==0.2.23) (11.3.0)\n",
            "Requirement already satisfied: pyparsing>=2.3.1 in /usr/local/lib/python3.12/dist-packages (from matplotlib->granite-tsfm[notebooks]==0.2.23) (3.2.5)\n",
            "Requirement already satisfied: tenacity>=6.2.0 in /usr/local/lib/python3.12/dist-packages (from plotly->granite-tsfm[notebooks]==0.2.23) (8.5.0)\n",
            "Requirement already satisfied: scipy>=1.6.0 in /usr/local/lib/python3.12/dist-packages (from scikit-learn->granite-tsfm==0.2.23->granite-tsfm[notebooks]==0.2.23) (1.16.2)\n",
            "Requirement already satisfied: joblib>=1.2.0 in /usr/local/lib/python3.12/dist-packages (from scikit-learn->granite-tsfm==0.2.23->granite-tsfm[notebooks]==0.2.23) (1.5.2)\n",
            "Requirement already satisfied: threadpoolctl>=3.1.0 in /usr/local/lib/python3.12/dist-packages (from scikit-learn->granite-tsfm==0.2.23->granite-tsfm[notebooks]==0.2.23) (3.6.0)\n",
            "Requirement already satisfied: absl-py>=0.4 in /usr/local/lib/python3.12/dist-packages (from tensorboard->granite-tsfm[notebooks]==0.2.23) (1.4.0)\n",
            "Requirement already satisfied: grpcio>=1.48.2 in /usr/local/lib/python3.12/dist-packages (from tensorboard->granite-tsfm[notebooks]==0.2.23) (1.75.1)\n",
            "Requirement already satisfied: markdown>=2.6.8 in /usr/local/lib/python3.12/dist-packages (from tensorboard->granite-tsfm[notebooks]==0.2.23) (3.9)\n",
            "Requirement already satisfied: protobuf!=4.24.0,>=3.19.6 in /usr/local/lib/python3.12/dist-packages (from tensorboard->granite-tsfm[notebooks]==0.2.23) (5.29.5)\n",
            "Requirement already satisfied: setuptools>=41.0.0 in /usr/local/lib/python3.12/dist-packages (from tensorboard->granite-tsfm[notebooks]==0.2.23) (75.2.0)\n",
            "Requirement already satisfied: six>1.9 in /usr/local/lib/python3.12/dist-packages (from tensorboard->granite-tsfm[notebooks]==0.2.23) (1.17.0)\n",
            "Requirement already satisfied: tensorboard-data-server<0.8.0,>=0.7.0 in /usr/local/lib/python3.12/dist-packages (from tensorboard->granite-tsfm[notebooks]==0.2.23) (0.7.2)\n",
            "Requirement already satisfied: werkzeug>=1.0.1 in /usr/local/lib/python3.12/dist-packages (from tensorboard->granite-tsfm[notebooks]==0.2.23) (3.1.3)\n",
            "Requirement already satisfied: psutil in /usr/local/lib/python3.12/dist-packages (from accelerate>=0.26.0->transformers[torch]>=4.38.0->granite-tsfm==0.2.23->granite-tsfm[notebooks]==0.2.23) (5.9.5)\n",
            "Requirement already satisfied: simplejson>=3.19.3 in /usr/local/lib/python3.12/dist-packages (from choreographer>=1.0.10->kaleido->granite-tsfm[notebooks]==0.2.23) (3.20.2)\n",
            "Requirement already satisfied: aiohttp!=4.0.0a0,!=4.0.0a1 in /usr/local/lib/python3.12/dist-packages (from fsspec[http]<=2025.3.0,>=2023.1.0->datasets->granite-tsfm==0.2.23->granite-tsfm[notebooks]==0.2.23) (3.13.1)\n",
            "Requirement already satisfied: typing-extensions~=4.12 in /usr/local/lib/python3.12/dist-packages (from grpcio>=1.48.2->tensorboard->granite-tsfm[notebooks]==0.2.23) (4.15.0)\n",
            "Requirement already satisfied: hf-xet<2.0.0,>=1.1.3 in /usr/local/lib/python3.12/dist-packages (from huggingface-hub<1.0,>=0.34.0->transformers>=4.38.0->transformers[torch]>=4.38.0->granite-tsfm==0.2.23->granite-tsfm[notebooks]==0.2.23) (1.1.10)\n",
            "Requirement already satisfied: debugpy>=1.0 in /usr/local/lib/python3.12/dist-packages (from ipykernel>=4.5.1->ipywidgets->granite-tsfm[notebooks]==0.2.23) (1.8.15)\n",
            "Requirement already satisfied: jupyter-client>=6.1.12 in /usr/local/lib/python3.12/dist-packages (from ipykernel>=4.5.1->ipywidgets->granite-tsfm[notebooks]==0.2.23) (7.4.9)\n",
            "Requirement already satisfied: matplotlib-inline>=0.1 in /usr/local/lib/python3.12/dist-packages (from ipykernel>=4.5.1->ipywidgets->granite-tsfm[notebooks]==0.2.23) (0.1.7)\n",
            "Requirement already satisfied: nest-asyncio in /usr/local/lib/python3.12/dist-packages (from ipykernel>=4.5.1->ipywidgets->granite-tsfm[notebooks]==0.2.23) (1.6.0)\n",
            "Requirement already satisfied: pyzmq>=17 in /usr/local/lib/python3.12/dist-packages (from ipykernel>=4.5.1->ipywidgets->granite-tsfm[notebooks]==0.2.23) (26.2.1)\n",
            "Requirement already satisfied: tornado>=6.1 in /usr/local/lib/python3.12/dist-packages (from ipykernel>=4.5.1->ipywidgets->granite-tsfm[notebooks]==0.2.23) (6.5.1)\n",
            "Requirement already satisfied: jedi>=0.16 in /usr/local/lib/python3.12/dist-packages (from ipython>=4.0.0->ipywidgets->granite-tsfm[notebooks]==0.2.23) (0.19.2)\n",
            "Requirement already satisfied: decorator in /usr/local/lib/python3.12/dist-packages (from ipython>=4.0.0->ipywidgets->granite-tsfm[notebooks]==0.2.23) (4.4.2)\n",
            "Requirement already satisfied: pickleshare in /usr/local/lib/python3.12/dist-packages (from ipython>=4.0.0->ipywidgets->granite-tsfm[notebooks]==0.2.23) (0.7.5)\n",
            "Requirement already satisfied: prompt-toolkit!=3.0.0,!=3.0.1,<3.1.0,>=2.0.0 in /usr/local/lib/python3.12/dist-packages (from ipython>=4.0.0->ipywidgets->granite-tsfm[notebooks]==0.2.23) (3.0.52)\n",
            "Requirement already satisfied: pygments in /usr/local/lib/python3.12/dist-packages (from ipython>=4.0.0->ipywidgets->granite-tsfm[notebooks]==0.2.23) (2.19.2)\n",
            "Requirement already satisfied: backcall in /usr/local/lib/python3.12/dist-packages (from ipython>=4.0.0->ipywidgets->granite-tsfm[notebooks]==0.2.23) (0.2.0)\n",
            "Requirement already satisfied: pexpect>4.3 in /usr/local/lib/python3.12/dist-packages (from ipython>=4.0.0->ipywidgets->granite-tsfm[notebooks]==0.2.23) (4.9.0)\n",
            "Requirement already satisfied: pytest>=7.0.0 in /usr/local/lib/python3.12/dist-packages (from pytest-timeout>=2.4.0->kaleido->granite-tsfm[notebooks]==0.2.23) (8.4.2)\n",
            "Requirement already satisfied: charset_normalizer<4,>=2 in /usr/local/lib/python3.12/dist-packages (from requests->transformers>=4.38.0->transformers[torch]>=4.38.0->granite-tsfm==0.2.23->granite-tsfm[notebooks]==0.2.23) (3.4.4)\n",
            "Requirement already satisfied: idna<4,>=2.5 in /usr/local/lib/python3.12/dist-packages (from requests->transformers>=4.38.0->transformers[torch]>=4.38.0->granite-tsfm==0.2.23->granite-tsfm[notebooks]==0.2.23) (3.11)\n",
            "Requirement already satisfied: certifi>=2017.4.17 in /usr/local/lib/python3.12/dist-packages (from requests->transformers>=4.38.0->transformers[torch]>=4.38.0->granite-tsfm==0.2.23->granite-tsfm[notebooks]==0.2.23) (2025.10.5)\n",
            "Requirement already satisfied: sympy>=1.13.3 in /usr/local/lib/python3.12/dist-packages (from torch>=2.2->transformers[torch]>=4.38.0->granite-tsfm==0.2.23->granite-tsfm[notebooks]==0.2.23) (1.13.3)\n",
            "Requirement already satisfied: networkx in /usr/local/lib/python3.12/dist-packages (from torch>=2.2->transformers[torch]>=4.38.0->granite-tsfm==0.2.23->granite-tsfm[notebooks]==0.2.23) (3.5)\n",
            "Requirement already satisfied: jinja2 in /usr/local/lib/python3.12/dist-packages (from torch>=2.2->transformers[torch]>=4.38.0->granite-tsfm==0.2.23->granite-tsfm[notebooks]==0.2.23) (3.1.6)\n",
            "Requirement already satisfied: nvidia-cuda-nvrtc-cu12==12.6.77 in /usr/local/lib/python3.12/dist-packages (from torch>=2.2->transformers[torch]>=4.38.0->granite-tsfm==0.2.23->granite-tsfm[notebooks]==0.2.23) (12.6.77)\n",
            "Requirement already satisfied: nvidia-cuda-runtime-cu12==12.6.77 in /usr/local/lib/python3.12/dist-packages (from torch>=2.2->transformers[torch]>=4.38.0->granite-tsfm==0.2.23->granite-tsfm[notebooks]==0.2.23) (12.6.77)\n",
            "Requirement already satisfied: nvidia-cuda-cupti-cu12==12.6.80 in /usr/local/lib/python3.12/dist-packages (from torch>=2.2->transformers[torch]>=4.38.0->granite-tsfm==0.2.23->granite-tsfm[notebooks]==0.2.23) (12.6.80)\n",
            "Requirement already satisfied: nvidia-cudnn-cu12==9.10.2.21 in /usr/local/lib/python3.12/dist-packages (from torch>=2.2->transformers[torch]>=4.38.0->granite-tsfm==0.2.23->granite-tsfm[notebooks]==0.2.23) (9.10.2.21)\n",
            "Requirement already satisfied: nvidia-cublas-cu12==12.6.4.1 in /usr/local/lib/python3.12/dist-packages (from torch>=2.2->transformers[torch]>=4.38.0->granite-tsfm==0.2.23->granite-tsfm[notebooks]==0.2.23) (12.6.4.1)\n",
            "Requirement already satisfied: nvidia-cufft-cu12==11.3.0.4 in /usr/local/lib/python3.12/dist-packages (from torch>=2.2->transformers[torch]>=4.38.0->granite-tsfm==0.2.23->granite-tsfm[notebooks]==0.2.23) (11.3.0.4)\n",
            "Requirement already satisfied: nvidia-curand-cu12==10.3.7.77 in /usr/local/lib/python3.12/dist-packages (from torch>=2.2->transformers[torch]>=4.38.0->granite-tsfm==0.2.23->granite-tsfm[notebooks]==0.2.23) (10.3.7.77)\n",
            "Requirement already satisfied: nvidia-cusolver-cu12==11.7.1.2 in /usr/local/lib/python3.12/dist-packages (from torch>=2.2->transformers[torch]>=4.38.0->granite-tsfm==0.2.23->granite-tsfm[notebooks]==0.2.23) (11.7.1.2)\n",
            "Requirement already satisfied: nvidia-cusparse-cu12==12.5.4.2 in /usr/local/lib/python3.12/dist-packages (from torch>=2.2->transformers[torch]>=4.38.0->granite-tsfm==0.2.23->granite-tsfm[notebooks]==0.2.23) (12.5.4.2)\n",
            "Requirement already satisfied: nvidia-cusparselt-cu12==0.7.1 in /usr/local/lib/python3.12/dist-packages (from torch>=2.2->transformers[torch]>=4.38.0->granite-tsfm==0.2.23->granite-tsfm[notebooks]==0.2.23) (0.7.1)\n",
            "Requirement already satisfied: nvidia-nccl-cu12==2.27.3 in /usr/local/lib/python3.12/dist-packages (from torch>=2.2->transformers[torch]>=4.38.0->granite-tsfm==0.2.23->granite-tsfm[notebooks]==0.2.23) (2.27.3)\n",
            "Requirement already satisfied: nvidia-nvtx-cu12==12.6.77 in /usr/local/lib/python3.12/dist-packages (from torch>=2.2->transformers[torch]>=4.38.0->granite-tsfm==0.2.23->granite-tsfm[notebooks]==0.2.23) (12.6.77)\n",
            "Requirement already satisfied: nvidia-nvjitlink-cu12==12.6.85 in /usr/local/lib/python3.12/dist-packages (from torch>=2.2->transformers[torch]>=4.38.0->granite-tsfm==0.2.23->granite-tsfm[notebooks]==0.2.23) (12.6.85)\n",
            "Requirement already satisfied: nvidia-cufile-cu12==1.11.1.6 in /usr/local/lib/python3.12/dist-packages (from torch>=2.2->transformers[torch]>=4.38.0->granite-tsfm==0.2.23->granite-tsfm[notebooks]==0.2.23) (1.11.1.6)\n",
            "Requirement already satisfied: triton==3.4.0 in /usr/local/lib/python3.12/dist-packages (from torch>=2.2->transformers[torch]>=4.38.0->granite-tsfm==0.2.23->granite-tsfm[notebooks]==0.2.23) (3.4.0)\n",
            "Requirement already satisfied: MarkupSafe>=2.1.1 in /usr/local/lib/python3.12/dist-packages (from werkzeug>=1.0.1->tensorboard->granite-tsfm[notebooks]==0.2.23) (3.0.3)\n",
            "Requirement already satisfied: argon2-cffi in /usr/local/lib/python3.12/dist-packages (from notebook->jupyter->granite-tsfm[notebooks]==0.2.23) (25.1.0)\n",
            "Requirement already satisfied: jupyter-core>=4.6.1 in /usr/local/lib/python3.12/dist-packages (from notebook->jupyter->granite-tsfm[notebooks]==0.2.23) (5.9.1)\n",
            "Requirement already satisfied: nbformat in /usr/local/lib/python3.12/dist-packages (from notebook->jupyter->granite-tsfm[notebooks]==0.2.23) (5.10.4)\n",
            "Requirement already satisfied: Send2Trash>=1.8.0 in /usr/local/lib/python3.12/dist-packages (from notebook->jupyter->granite-tsfm[notebooks]==0.2.23) (1.8.3)\n",
            "Requirement already satisfied: terminado>=0.8.3 in /usr/local/lib/python3.12/dist-packages (from notebook->jupyter->granite-tsfm[notebooks]==0.2.23) (0.18.1)\n",
            "Requirement already satisfied: prometheus-client in /usr/local/lib/python3.12/dist-packages (from notebook->jupyter->granite-tsfm[notebooks]==0.2.23) (0.23.1)\n",
            "Requirement already satisfied: nbclassic>=0.4.7 in /usr/local/lib/python3.12/dist-packages (from notebook->jupyter->granite-tsfm[notebooks]==0.2.23) (1.3.3)\n",
            "Requirement already satisfied: beautifulsoup4 in /usr/local/lib/python3.12/dist-packages (from nbconvert->jupyter->granite-tsfm[notebooks]==0.2.23) (4.13.5)\n",
            "Requirement already satisfied: bleach!=5.0.0 in /usr/local/lib/python3.12/dist-packages (from bleach[css]!=5.0.0->nbconvert->jupyter->granite-tsfm[notebooks]==0.2.23) (6.2.0)\n",
            "Requirement already satisfied: defusedxml in /usr/local/lib/python3.12/dist-packages (from nbconvert->jupyter->granite-tsfm[notebooks]==0.2.23) (0.7.1)\n",
            "Requirement already satisfied: jupyterlab-pygments in /usr/local/lib/python3.12/dist-packages (from nbconvert->jupyter->granite-tsfm[notebooks]==0.2.23) (0.3.0)\n",
            "Requirement already satisfied: mistune<4,>=2.0.3 in /usr/local/lib/python3.12/dist-packages (from nbconvert->jupyter->granite-tsfm[notebooks]==0.2.23) (3.1.4)\n",
            "Requirement already satisfied: nbclient>=0.5.0 in /usr/local/lib/python3.12/dist-packages (from nbconvert->jupyter->granite-tsfm[notebooks]==0.2.23) (0.10.2)\n",
            "Requirement already satisfied: pandocfilters>=1.4.1 in /usr/local/lib/python3.12/dist-packages (from nbconvert->jupyter->granite-tsfm[notebooks]==0.2.23) (1.5.1)\n",
            "Requirement already satisfied: async-lru>=1.0.0 in /usr/local/lib/python3.12/dist-packages (from jupyterlab->jupyter->granite-tsfm[notebooks]==0.2.23) (2.0.5)\n",
            "Requirement already satisfied: httpx<1,>=0.25.0 in /usr/local/lib/python3.12/dist-packages (from jupyterlab->jupyter->granite-tsfm[notebooks]==0.2.23) (0.28.1)\n",
            "Requirement already satisfied: jupyter-lsp>=2.0.0 in /usr/local/lib/python3.12/dist-packages (from jupyterlab->jupyter->granite-tsfm[notebooks]==0.2.23) (2.3.0)\n",
            "Requirement already satisfied: jupyter-server<3,>=2.4.0 in /usr/local/lib/python3.12/dist-packages (from jupyterlab->jupyter->granite-tsfm[notebooks]==0.2.23) (2.14.0)\n",
            "Requirement already satisfied: jupyterlab-server<3,>=2.27.1 in /usr/local/lib/python3.12/dist-packages (from jupyterlab->jupyter->granite-tsfm[notebooks]==0.2.23) (2.28.0)\n",
            "Requirement already satisfied: notebook-shim>=0.2 in /usr/local/lib/python3.12/dist-packages (from jupyterlab->jupyter->granite-tsfm[notebooks]==0.2.23) (0.2.4)\n",
            "Requirement already satisfied: aiohappyeyeballs>=2.5.0 in /usr/local/lib/python3.12/dist-packages (from aiohttp!=4.0.0a0,!=4.0.0a1->fsspec[http]<=2025.3.0,>=2023.1.0->datasets->granite-tsfm==0.2.23->granite-tsfm[notebooks]==0.2.23) (2.6.1)\n",
            "Requirement already satisfied: aiosignal>=1.4.0 in /usr/local/lib/python3.12/dist-packages (from aiohttp!=4.0.0a0,!=4.0.0a1->fsspec[http]<=2025.3.0,>=2023.1.0->datasets->granite-tsfm==0.2.23->granite-tsfm[notebooks]==0.2.23) (1.4.0)\n",
            "Requirement already satisfied: attrs>=17.3.0 in /usr/local/lib/python3.12/dist-packages (from aiohttp!=4.0.0a0,!=4.0.0a1->fsspec[http]<=2025.3.0,>=2023.1.0->datasets->granite-tsfm==0.2.23->granite-tsfm[notebooks]==0.2.23) (25.4.0)\n",
            "Requirement already satisfied: frozenlist>=1.1.1 in /usr/local/lib/python3.12/dist-packages (from aiohttp!=4.0.0a0,!=4.0.0a1->fsspec[http]<=2025.3.0,>=2023.1.0->datasets->granite-tsfm==0.2.23->granite-tsfm[notebooks]==0.2.23) (1.8.0)\n",
            "Requirement already satisfied: multidict<7.0,>=4.5 in /usr/local/lib/python3.12/dist-packages (from aiohttp!=4.0.0a0,!=4.0.0a1->fsspec[http]<=2025.3.0,>=2023.1.0->datasets->granite-tsfm==0.2.23->granite-tsfm[notebooks]==0.2.23) (6.7.0)\n",
            "Requirement already satisfied: propcache>=0.2.0 in /usr/local/lib/python3.12/dist-packages (from aiohttp!=4.0.0a0,!=4.0.0a1->fsspec[http]<=2025.3.0,>=2023.1.0->datasets->granite-tsfm==0.2.23->granite-tsfm[notebooks]==0.2.23) (0.4.1)\n",
            "Requirement already satisfied: yarl<2.0,>=1.17.0 in /usr/local/lib/python3.12/dist-packages (from aiohttp!=4.0.0a0,!=4.0.0a1->fsspec[http]<=2025.3.0,>=2023.1.0->datasets->granite-tsfm==0.2.23->granite-tsfm[notebooks]==0.2.23) (1.22.0)\n",
            "Requirement already satisfied: webencodings in /usr/local/lib/python3.12/dist-packages (from bleach!=5.0.0->bleach[css]!=5.0.0->nbconvert->jupyter->granite-tsfm[notebooks]==0.2.23) (0.5.1)\n",
            "Requirement already satisfied: tinycss2<1.5,>=1.1.0 in /usr/local/lib/python3.12/dist-packages (from bleach[css]!=5.0.0->nbconvert->jupyter->granite-tsfm[notebooks]==0.2.23) (1.4.0)\n",
            "Requirement already satisfied: anyio in /usr/local/lib/python3.12/dist-packages (from httpx<1,>=0.25.0->jupyterlab->jupyter->granite-tsfm[notebooks]==0.2.23) (4.11.0)\n",
            "Requirement already satisfied: httpcore==1.* in /usr/local/lib/python3.12/dist-packages (from httpx<1,>=0.25.0->jupyterlab->jupyter->granite-tsfm[notebooks]==0.2.23) (1.0.9)\n",
            "Requirement already satisfied: h11>=0.16 in /usr/local/lib/python3.12/dist-packages (from httpcore==1.*->httpx<1,>=0.25.0->jupyterlab->jupyter->granite-tsfm[notebooks]==0.2.23) (0.16.0)\n",
            "Requirement already satisfied: parso<0.9.0,>=0.8.4 in /usr/local/lib/python3.12/dist-packages (from jedi>=0.16->ipython>=4.0.0->ipywidgets->granite-tsfm[notebooks]==0.2.23) (0.8.5)\n",
            "Requirement already satisfied: entrypoints in /usr/local/lib/python3.12/dist-packages (from jupyter-client>=6.1.12->ipykernel>=4.5.1->ipywidgets->granite-tsfm[notebooks]==0.2.23) (0.4)\n",
            "Requirement already satisfied: platformdirs>=2.5 in /usr/local/lib/python3.12/dist-packages (from jupyter-core>=4.6.1->notebook->jupyter->granite-tsfm[notebooks]==0.2.23) (4.5.0)\n",
            "Requirement already satisfied: jupyter-events>=0.9.0 in /usr/local/lib/python3.12/dist-packages (from jupyter-server<3,>=2.4.0->jupyterlab->jupyter->granite-tsfm[notebooks]==0.2.23) (0.12.0)\n",
            "Requirement already satisfied: jupyter-server-terminals>=0.4.4 in /usr/local/lib/python3.12/dist-packages (from jupyter-server<3,>=2.4.0->jupyterlab->jupyter->granite-tsfm[notebooks]==0.2.23) (0.5.3)\n",
            "Requirement already satisfied: overrides>=5.0 in /usr/local/lib/python3.12/dist-packages (from jupyter-server<3,>=2.4.0->jupyterlab->jupyter->granite-tsfm[notebooks]==0.2.23) (7.7.0)\n",
            "Requirement already satisfied: websocket-client>=1.7 in /usr/local/lib/python3.12/dist-packages (from jupyter-server<3,>=2.4.0->jupyterlab->jupyter->granite-tsfm[notebooks]==0.2.23) (1.9.0)\n",
            "Requirement already satisfied: argon2-cffi-bindings in /usr/local/lib/python3.12/dist-packages (from argon2-cffi->notebook->jupyter->granite-tsfm[notebooks]==0.2.23) (25.1.0)\n",
            "Requirement already satisfied: babel>=2.10 in /usr/local/lib/python3.12/dist-packages (from jupyterlab-server<3,>=2.27.1->jupyterlab->jupyter->granite-tsfm[notebooks]==0.2.23) (2.17.0)\n",
            "Requirement already satisfied: json5>=0.9.0 in /usr/local/lib/python3.12/dist-packages (from jupyterlab-server<3,>=2.27.1->jupyterlab->jupyter->granite-tsfm[notebooks]==0.2.23) (0.12.1)\n",
            "Requirement already satisfied: jsonschema>=4.18.0 in /usr/local/lib/python3.12/dist-packages (from jupyterlab-server<3,>=2.27.1->jupyterlab->jupyter->granite-tsfm[notebooks]==0.2.23) (4.25.1)\n",
            "Requirement already satisfied: fastjsonschema>=2.15 in /usr/local/lib/python3.12/dist-packages (from nbformat->notebook->jupyter->granite-tsfm[notebooks]==0.2.23) (2.21.2)\n",
            "Requirement already satisfied: ptyprocess>=0.5 in /usr/local/lib/python3.12/dist-packages (from pexpect>4.3->ipython>=4.0.0->ipywidgets->granite-tsfm[notebooks]==0.2.23) (0.7.0)\n",
            "Requirement already satisfied: wcwidth in /usr/local/lib/python3.12/dist-packages (from prompt-toolkit!=3.0.0,!=3.0.1,<3.1.0,>=2.0.0->ipython>=4.0.0->ipywidgets->granite-tsfm[notebooks]==0.2.23) (0.2.14)\n",
            "Requirement already satisfied: iniconfig>=1 in /usr/local/lib/python3.12/dist-packages (from pytest>=7.0.0->pytest-timeout>=2.4.0->kaleido->granite-tsfm[notebooks]==0.2.23) (2.3.0)\n",
            "Requirement already satisfied: pluggy<2,>=1.5 in /usr/local/lib/python3.12/dist-packages (from pytest>=7.0.0->pytest-timeout>=2.4.0->kaleido->granite-tsfm[notebooks]==0.2.23) (1.6.0)\n",
            "Requirement already satisfied: mpmath<1.4,>=1.1.0 in /usr/local/lib/python3.12/dist-packages (from sympy>=1.13.3->torch>=2.2->transformers[torch]>=4.38.0->granite-tsfm==0.2.23->granite-tsfm[notebooks]==0.2.23) (1.3.0)\n",
            "Requirement already satisfied: soupsieve>1.2 in /usr/local/lib/python3.12/dist-packages (from beautifulsoup4->nbconvert->jupyter->granite-tsfm[notebooks]==0.2.23) (2.8)\n",
            "Requirement already satisfied: sniffio>=1.1 in /usr/local/lib/python3.12/dist-packages (from anyio->httpx<1,>=0.25.0->jupyterlab->jupyter->granite-tsfm[notebooks]==0.2.23) (1.3.1)\n",
            "Requirement already satisfied: jsonschema-specifications>=2023.03.6 in /usr/local/lib/python3.12/dist-packages (from jsonschema>=4.18.0->jupyterlab-server<3,>=2.27.1->jupyterlab->jupyter->granite-tsfm[notebooks]==0.2.23) (2025.9.1)\n",
            "Requirement already satisfied: referencing>=0.28.4 in /usr/local/lib/python3.12/dist-packages (from jsonschema>=4.18.0->jupyterlab-server<3,>=2.27.1->jupyterlab->jupyter->granite-tsfm[notebooks]==0.2.23) (0.37.0)\n",
            "Requirement already satisfied: rpds-py>=0.7.1 in /usr/local/lib/python3.12/dist-packages (from jsonschema>=4.18.0->jupyterlab-server<3,>=2.27.1->jupyterlab->jupyter->granite-tsfm[notebooks]==0.2.23) (0.27.1)\n",
            "Requirement already satisfied: python-json-logger>=2.0.4 in /usr/local/lib/python3.12/dist-packages (from jupyter-events>=0.9.0->jupyter-server<3,>=2.4.0->jupyterlab->jupyter->granite-tsfm[notebooks]==0.2.23) (4.0.0)\n",
            "Requirement already satisfied: rfc3339-validator in /usr/local/lib/python3.12/dist-packages (from jupyter-events>=0.9.0->jupyter-server<3,>=2.4.0->jupyterlab->jupyter->granite-tsfm[notebooks]==0.2.23) (0.1.4)\n",
            "Requirement already satisfied: rfc3986-validator>=0.1.1 in /usr/local/lib/python3.12/dist-packages (from jupyter-events>=0.9.0->jupyter-server<3,>=2.4.0->jupyterlab->jupyter->granite-tsfm[notebooks]==0.2.23) (0.1.1)\n",
            "Requirement already satisfied: cffi>=1.0.1 in /usr/local/lib/python3.12/dist-packages (from argon2-cffi-bindings->argon2-cffi->notebook->jupyter->granite-tsfm[notebooks]==0.2.23) (2.0.0)\n",
            "Requirement already satisfied: pycparser in /usr/local/lib/python3.12/dist-packages (from cffi>=1.0.1->argon2-cffi-bindings->argon2-cffi->notebook->jupyter->granite-tsfm[notebooks]==0.2.23) (2.23)\n",
            "Requirement already satisfied: fqdn in /usr/local/lib/python3.12/dist-packages (from jsonschema[format-nongpl]>=4.18.0->jupyter-events>=0.9.0->jupyter-server<3,>=2.4.0->jupyterlab->jupyter->granite-tsfm[notebooks]==0.2.23) (1.5.1)\n",
            "Requirement already satisfied: isoduration in /usr/local/lib/python3.12/dist-packages (from jsonschema[format-nongpl]>=4.18.0->jupyter-events>=0.9.0->jupyter-server<3,>=2.4.0->jupyterlab->jupyter->granite-tsfm[notebooks]==0.2.23) (20.11.0)\n",
            "Requirement already satisfied: jsonpointer>1.13 in /usr/local/lib/python3.12/dist-packages (from jsonschema[format-nongpl]>=4.18.0->jupyter-events>=0.9.0->jupyter-server<3,>=2.4.0->jupyterlab->jupyter->granite-tsfm[notebooks]==0.2.23) (3.0.0)\n",
            "Requirement already satisfied: rfc3987-syntax>=1.1.0 in /usr/local/lib/python3.12/dist-packages (from jsonschema[format-nongpl]>=4.18.0->jupyter-events>=0.9.0->jupyter-server<3,>=2.4.0->jupyterlab->jupyter->granite-tsfm[notebooks]==0.2.23) (1.1.0)\n",
            "Requirement already satisfied: uri-template in /usr/local/lib/python3.12/dist-packages (from jsonschema[format-nongpl]>=4.18.0->jupyter-events>=0.9.0->jupyter-server<3,>=2.4.0->jupyterlab->jupyter->granite-tsfm[notebooks]==0.2.23) (1.3.0)\n",
            "Requirement already satisfied: webcolors>=24.6.0 in /usr/local/lib/python3.12/dist-packages (from jsonschema[format-nongpl]>=4.18.0->jupyter-events>=0.9.0->jupyter-server<3,>=2.4.0->jupyterlab->jupyter->granite-tsfm[notebooks]==0.2.23) (24.11.1)\n",
            "Requirement already satisfied: lark>=1.2.2 in /usr/local/lib/python3.12/dist-packages (from rfc3987-syntax>=1.1.0->jsonschema[format-nongpl]>=4.18.0->jupyter-events>=0.9.0->jupyter-server<3,>=2.4.0->jupyterlab->jupyter->granite-tsfm[notebooks]==0.2.23) (1.3.0)\n",
            "Requirement already satisfied: arrow>=0.15.0 in /usr/local/lib/python3.12/dist-packages (from isoduration->jsonschema[format-nongpl]>=4.18.0->jupyter-events>=0.9.0->jupyter-server<3,>=2.4.0->jupyterlab->jupyter->granite-tsfm[notebooks]==0.2.23) (1.4.0)\n"
          ]
        }
      ],
      "source": [
        "# Install the tsfm library\n",
        "! pip install \"granite-tsfm[notebooks]==0.2.23\""
      ]
    },
    {
      "cell_type": "markdown",
      "metadata": {
        "id": "QZ-VIBnKetP9"
      },
      "source": [
        "### Import Packages\n",
        "\n",
        "From `tsfm_public`, we use the TinyTimeMixer model, forecasting pipeline, and plotting function.\n"
      ]
    },
    {
      "cell_type": "code",
      "execution_count": null,
      "metadata": {
        "id": "f9R-bdhzetP9"
      },
      "outputs": [],
      "source": [
        "import matplotlib.pyplot as plt\n",
        "import pandas as pd\n",
        "import torch\n",
        "\n",
        "from tsfm_public import (\n",
        "    TimeSeriesForecastingPipeline,\n",
        "    TinyTimeMixerForPrediction,\n",
        ")\n",
        "from tsfm_public.toolkit.visualization import plot_predictions"
      ]
    },
    {
      "cell_type": "markdown",
      "metadata": {
        "id": "nvXwiORtetP9"
      },
      "source": [
        "### Download the data\n",
        "\n",
        "We'll work with a dataset of hourly electrical demand, generation by type, and weather in Spain. This dataset was originally available from Kaggle. To simplify access to the data, we will make use of the ([energy consumption](https://huggingface.co/datasets/vitaliy-sharandin/energy-consumption-hourly-spain) and [weather](https://huggingface.co/datasets/vitaliy-sharandin/energy-consumption-weather-hourly-spain)) datasets on Hugging Face."
      ]
    },
    {
      "cell_type": "code",
      "execution_count": null,
      "metadata": {
        "id": "Vb9jt-8OetP-"
      },
      "outputs": [],
      "source": [
        "DATA_FILE_PATH = \"hf://datasets/vitaliy-sharandin/energy-consumption-hourly-spain/energy_dataset.csv\""
      ]
    },
    {
      "cell_type": "markdown",
      "metadata": {
        "id": "H0tj9gOUetP-"
      },
      "source": [
        "### Specify time and output variables\n",
        "\n",
        "We provide the names of the timestamp column and the target column to be predicted. The context length (in time steps) is set to match the pretrained model."
      ]
    },
    {
      "cell_type": "code",
      "execution_count": null,
      "metadata": {
        "id": "_X2Twn3setP_"
      },
      "outputs": [],
      "source": [
        "timestamp_column = \"time\"\n",
        "target_columns = [\"total load actual\"]\n",
        "context_length = 512"
      ]
    },
    {
      "cell_type": "markdown",
      "metadata": {
        "id": "R4_2WapcetP_"
      },
      "source": [
        "### Read in the data\n",
        "\n",
        "We parse the csv into a pandas dataframe, filling in any null values, and create a single window containing `context_length` time points. We ensure the timestamp column is a datetime."
      ]
    },
    {
      "cell_type": "code",
      "execution_count": null,
      "metadata": {
        "id": "xqVtoEF0etP_"
      },
      "outputs": [],
      "source": [
        "# Read in the data from the downloaded file.\n",
        "input_df = pd.read_csv(\n",
        "    DATA_FILE_PATH,\n",
        "    parse_dates=[timestamp_column],  # Parse the timestamp values as dates.\n",
        ")\n",
        "\n",
        "# Fill NA/NaN values by propagating the last valid value.\n",
        "input_df = input_df.ffill()\n",
        "\n",
        "# Only use the last `context_length` rows for prediction.\n",
        "input_df = input_df.iloc[-context_length:,]\n",
        "\n",
        "# Show the last few rows of the dataset.\n",
        "input_df.tail()"
      ]
    },
    {
      "cell_type": "markdown",
      "metadata": {
        "id": "0MDxH2PvetP_"
      },
      "source": [
        "### Plot the target series\n",
        "\n",
        "Here we inspect a preview of the target time series column."
      ]
    },
    {
      "cell_type": "code",
      "execution_count": null,
      "metadata": {
        "keep_output": true,
        "id": "ltZPPDRyetQA"
      },
      "outputs": [],
      "source": [
        "fig, axs = plt.subplots(len(target_columns), 1, figsize=(10, 2 * len(target_columns)), squeeze=False)\n",
        "for ax, target_column in zip(axs, target_columns):\n",
        "    ax[0].plot(input_df[timestamp_column], input_df[target_column])"
      ]
    },
    {
      "cell_type": "markdown",
      "metadata": {
        "id": "EUy9zGl4etQA"
      },
      "source": [
        "### Set up zero shot model\n",
        "The TTM model is hosted on [Hugging Face](https://huggingface.co/ibm-granite/granite-timeseries-ttm-v1), and is retrieved by the wrapper, `TinyTimeMixerForPrediction`. We have one input channel in this example."
      ]
    },
    {
      "cell_type": "code",
      "execution_count": null,
      "metadata": {
        "id": "z-h0J07vetQA"
      },
      "outputs": [],
      "source": [
        "# Instantiate the model.\n",
        "zeroshot_model = TinyTimeMixerForPrediction.from_pretrained(\n",
        "    \"ibm-granite/granite-timeseries-ttm-r2\",  # Name of the model on Hugging Face\n",
        "    num_input_channels=len(target_columns),  # tsp.num_input_channels\n",
        ")"
      ]
    },
    {
      "cell_type": "markdown",
      "metadata": {
        "id": "T1hGVV-AetQB"
      },
      "source": [
        "### Create a forecasting pipeline\n",
        "\n",
        "Set up the forecasting pipeline with the model, setting `frequency` given our knowledge of the sample frequency. In this example we set `explode_forecasts` to `False`, which keeps each sequence of predictions in a list within the dataframe cells. We then make a forecast on the dataset."
      ]
    },
    {
      "cell_type": "code",
      "execution_count": null,
      "metadata": {
        "id": "yL99bbCSetQB"
      },
      "outputs": [],
      "source": [
        "# Create a pipeline.\n",
        "device = \"cuda\" if torch.cuda.is_available() else \"cpu\"\n",
        "\n",
        "pipeline = TimeSeriesForecastingPipeline(\n",
        "    zeroshot_model,\n",
        "    timestamp_column=timestamp_column,\n",
        "    id_columns=[],\n",
        "    target_columns=target_columns,\n",
        "    explode_forecasts=False,\n",
        "    freq=\"h\",\n",
        "    device=device,  # Specify your local GPU or CPU.\n",
        ")\n",
        "\n",
        "# Make a forecast on the target column given the input data.\n",
        "zeroshot_forecast = pipeline(input_df)\n",
        "zeroshot_forecast.tail()"
      ]
    },
    {
      "cell_type": "markdown",
      "metadata": {
        "id": "m7bLbMBUetQB"
      },
      "source": [
        "### Plot predictions along with the historical data.\n",
        "\n",
        "The predicted series picks up where the historical data ends, and we can see that it predicts a continuation of the cyclical pattern and an upward trend."
      ]
    },
    {
      "cell_type": "code",
      "execution_count": null,
      "metadata": {
        "keep_output": true,
        "id": "j9RzE6jUetQB"
      },
      "outputs": [],
      "source": [
        "# Plot the historical data and predicted series.\n",
        "plot_predictions(\n",
        "    input_df=input_df,\n",
        "    predictions_df=zeroshot_forecast,\n",
        "    freq=\"h\",\n",
        "    timestamp_column=timestamp_column,\n",
        "    channel=target_column,\n",
        "    indices=[-1],\n",
        "    num_plots=1,\n",
        ")"
      ]
    },
    {
      "cell_type": "code",
      "execution_count": null,
      "metadata": {
        "id": "g3F2dUn7etQB"
      },
      "outputs": [],
      "source": []
    }
  ],
  "metadata": {
    "language_info": {
      "name": "python"
    },
    "colab": {
      "provenance": [],
      "include_colab_link": true
    },
    "kernelspec": {
      "name": "python3",
      "display_name": "Python 3"
    }
  },
  "nbformat": 4,
  "nbformat_minor": 0
}